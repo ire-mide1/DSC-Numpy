{
 "cells": [
  {
   "cell_type": "code",
   "execution_count": 2,
   "metadata": {},
   "outputs": [
    {
     "name": "stdout",
     "output_type": "stream",
     "text": [
      "[ 1  2  3  4  5  6  7  8  9 10]\n"
     ]
    }
   ],
   "source": [
    "import numpy as np\n",
    "python_list = [1,2,3,4,5,6,7,8,9,10]\n",
    "numpy_array = np.array(python_list)\n",
    "print(numpy_array)"
   ]
  },
  {
   "cell_type": "code",
   "execution_count": 3,
   "metadata": {},
   "outputs": [
    {
     "name": "stdout",
     "output_type": "stream",
     "text": [
      "[0.         0.10526316 0.21052632 0.31578947 0.42105263 0.52631579\n",
      " 0.63157895 0.73684211 0.84210526 0.94736842 1.05263158 1.15789474\n",
      " 1.26315789 1.36842105 1.47368421 1.57894737 1.68421053 1.78947368\n",
      " 1.89473684 2.        ]\n"
     ]
    }
   ],
   "source": [
    "#creating an array using linspace funtion\n",
    "A = np.linspace(0,2,20)\n",
    "print(A)"
   ]
  },
  {
   "cell_type": "code",
   "execution_count": 10,
   "metadata": {},
   "outputs": [
    {
     "name": "stdout",
     "output_type": "stream",
     "text": [
      "[[1 2 3]\n",
      " [4 5 6]\n",
      " [7 8 9]]\n"
     ]
    }
   ],
   "source": [
    "#creating a 2d array from a python list\n",
    "second_list = [[1,2,3],[4,5,6],[7,8,9]]\n",
    "d2_array = np.array(second_list)\n",
    "print(d2_array)"
   ]
  },
  {
   "cell_type": "code",
   "execution_count": 12,
   "metadata": {},
   "outputs": [
    {
     "name": "stdout",
     "output_type": "stream",
     "text": [
      "[ 0  3  6  9 12 15]\n"
     ]
    }
   ],
   "source": [
    "#creating a numpy array with arange function\n",
    "array = np.arange(0,18,3)\n",
    "print(array)"
   ]
  },
  {
   "cell_type": "code",
   "execution_count": 19,
   "metadata": {},
   "outputs": [
    {
     "name": "stdout",
     "output_type": "stream",
     "text": [
      "[[0. 0. 0. 0. 0. 0.]\n",
      " [0. 0. 0. 0. 0. 0.]\n",
      " [0. 0. 0. 0. 0. 0.]]\n"
     ]
    }
   ],
   "source": [
    "#creating a numpy array with zeros\n",
    "zeros_list = np.zeros((3,6))\n",
    "print(zeros_list)"
   ]
  },
  {
   "cell_type": "code",
   "execution_count": 17,
   "metadata": {},
   "outputs": [
    {
     "name": "stdout",
     "output_type": "stream",
     "text": [
      "[[1. 1. 1.]\n",
      " [1. 1. 1.]\n",
      " [1. 1. 1.]]\n"
     ]
    }
   ],
   "source": [
    "#creating a numpy array with ones\n",
    "ones_list = np.ones([3,3])\n",
    "print(ones_list)"
   ]
  },
  {
   "cell_type": "code",
   "execution_count": 26,
   "metadata": {},
   "outputs": [
    {
     "data": {
      "text/plain": [
       "array([[1., 0., 0., 0., 0., 0.],\n",
       "       [0., 1., 0., 0., 0., 0.],\n",
       "       [0., 0., 1., 0., 0., 0.],\n",
       "       [0., 0., 0., 1., 0., 0.],\n",
       "       [0., 0., 0., 0., 1., 0.],\n",
       "       [0., 0., 0., 0., 0., 1.]])"
      ]
     },
     "execution_count": 26,
     "metadata": {},
     "output_type": "execute_result"
    }
   ],
   "source": [
    "#creating an identity matrix \n",
    "matrix = np.eye(6)\n",
    "matrix"
   ]
  },
  {
   "cell_type": "code",
   "execution_count": 27,
   "metadata": {},
   "outputs": [
    {
     "data": {
      "text/plain": [
       "array([[0.8406909 , 0.51161774, 0.12315064, 0.51549409, 0.8840647 ,\n",
       "        0.46090531],\n",
       "       [0.35598854, 0.31194741, 0.35377391, 0.25744872, 0.33481621,\n",
       "        0.32842926],\n",
       "       [0.91028115, 0.44712345, 0.75219987, 0.3625924 , 0.21600845,\n",
       "        0.70899552]])"
      ]
     },
     "execution_count": 27,
     "metadata": {},
     "output_type": "execute_result"
    }
   ],
   "source": [
    "#generating an array of random numbers\n",
    "random = np.random.rand(3,6)\n",
    "random"
   ]
  },
  {
   "cell_type": "code",
   "execution_count": 28,
   "metadata": {},
   "outputs": [
    {
     "data": {
      "text/plain": [
       "array([[-0.59050869, -0.33660527,  0.30222786, -0.77933491, -0.60934152,\n",
       "        -1.01131438],\n",
       "       [-2.77000052, -0.36190143,  0.56714976,  0.26793736, -1.21261597,\n",
       "         1.72003492],\n",
       "       [-0.87629284, -0.55228337,  0.71431457, -0.62491798,  0.31074339,\n",
       "        -1.03537756]])"
      ]
     },
     "execution_count": 28,
     "metadata": {},
     "output_type": "execute_result"
    }
   ],
   "source": [
    "random = np.random.randn(3,6)\n",
    "random"
   ]
  },
  {
   "cell_type": "code",
   "execution_count": 31,
   "metadata": {},
   "outputs": [
    {
     "data": {
      "text/plain": [
       "array([ 6,  0,  1,  6,  4, 14,  8,  1,  6, 16, 10, 13,  1, 10,  5,  1,  5,\n",
       "        0,  3,  6,  7, 13, 13, 19,  8, 14,  6, 19,  2,  7,  3,  1, 18,  5,\n",
       "       11, 16, 14,  4, 15,  5, 14,  6, 16,  4,  9,  0, 12,  9,  3, 18])"
      ]
     },
     "execution_count": 31,
     "metadata": {},
     "output_type": "execute_result"
    }
   ],
   "source": [
    "random = np.random.randint(0,20,50)\n",
    "random"
   ]
  },
  {
   "cell_type": "code",
   "execution_count": 37,
   "metadata": {},
   "outputs": [
    {
     "data": {
      "text/plain": [
       "array([[ 1, 12, 12, 12,  4],\n",
       "       [ 7,  9,  7, 12,  9],\n",
       "       [13, 16,  0, 17,  9],\n",
       "       [ 7,  2, 14,  9, 15],\n",
       "       [ 4,  5,  8,  7,  5]])"
      ]
     },
     "execution_count": 37,
     "metadata": {},
     "output_type": "execute_result"
    }
   ],
   "source": [
    "random = np.random.randint(0,20,25)\n",
    "random\n",
    "random.reshape(5,5)"
   ]
  },
  {
   "cell_type": "code",
   "execution_count": 38,
   "metadata": {},
   "outputs": [
    {
     "name": "stdout",
     "output_type": "stream",
     "text": [
      "[[ 8 12 15 15  5]\n",
      " [ 9 18  9 10 18]\n",
      " [15 12  7 16 11]\n",
      " [11  5 12 11  0]\n",
      " [ 6  8 13 10 13]]\n",
      "18\n",
      "0\n",
      "6\n",
      "19\n"
     ]
    }
   ],
   "source": [
    "#locating the minimum and maximum value \n",
    "random = np.random.randint(0,20,25)\n",
    "random\n",
    "print(random.reshape(5,5))\n",
    "print(random.max())\n",
    "print(random.min())\n",
    "print(random.argmax())\n",
    "print(random.argmin())"
   ]
  },
  {
   "cell_type": "code",
   "execution_count": 41,
   "metadata": {},
   "outputs": [
    {
     "name": "stdout",
     "output_type": "stream",
     "text": [
      "60\n",
      "[30 40 50 60]\n",
      "[70 80 90] [1]\n",
      "[[10 20]]\n",
      "[70 80 90]\n"
     ]
    }
   ],
   "source": [
    "#indexing elements from a numpy array\n",
    "array = np.arange(0,100,10)\n",
    "print(array[6])\n",
    "#for a range of values\n",
    "print(array[3:7])\n",
    "#for a 2d array\n",
    "array_2 = np.array([[10,20,30],[40,50,60],[70,80,90]])\n",
    "print(array_2[2],[1])\n",
    "print(array_2[:1,:2])\n",
    "print(array_2[2])"
   ]
  },
  {
   "cell_type": "code",
   "execution_count": 5,
   "metadata": {},
   "outputs": [
    {
     "name": "stdout",
     "output_type": "stream",
     "text": [
      "[False False False  True  True  True  True  True  True  True]\n",
      "[30 40 50 60 70 80 90]\n"
     ]
    }
   ],
   "source": [
    "array = np.arange(0,100,10)\n",
    "print(array>20)\n",
    "boolean = array>20\n",
    "boolean_2 = array<10\n",
    "print(array[boolean])\n",
    "\n"
   ]
  },
  {
   "cell_type": "code",
   "execution_count": 5,
   "metadata": {
    "scrolled": true
   },
   "outputs": [
    {
     "data": {
      "text/plain": [
       "array([ 0,  2,  4,  6,  8, 10, 12, 14, 16, 18, 20, 22, 24, 26, 28])"
      ]
     },
     "execution_count": 5,
     "metadata": {},
     "output_type": "execute_result"
    }
   ],
   "source": [
    "#Assignment\n",
    "#1\n",
    "import numpy as np\n",
    "one_dim_array = np.arange(0,30,2)\n",
    "one_dim_array"
   ]
  },
  {
   "cell_type": "code",
   "execution_count": 6,
   "metadata": {},
   "outputs": [
    {
     "name": "stdout",
     "output_type": "stream",
     "text": [
      "[[ 2  3  4 11]\n",
      " [ 5  6  7 12]\n",
      " [ 8  9 10 13]]\n",
      "[[ 2  3]\n",
      " [ 4 11]\n",
      " [ 5  6]\n",
      " [ 7 12]\n",
      " [ 8  9]\n",
      " [10 13]]\n"
     ]
    }
   ],
   "source": [
    "two_dim_array = np.array([[2,3,4,11],[5,6,7,12],[8,9,10,13]])\n",
    "print(two_dim_array)\n",
    "print(two_dim_array.reshape(6,2))\n",
    "\n"
   ]
  },
  {
   "cell_type": "code",
   "execution_count": 7,
   "metadata": {},
   "outputs": [
    {
     "data": {
      "text/plain": [
       "array([[4, 4, 4, 4],\n",
       "       [4, 4, 4, 4],\n",
       "       [4, 4, 4, 4],\n",
       "       [4, 4, 4, 4]])"
      ]
     },
     "execution_count": 7,
     "metadata": {},
     "output_type": "execute_result"
    }
   ],
   "source": [
    "four_array = np.full((4,4),4)\n",
    "four_array"
   ]
  },
  {
   "cell_type": "code",
   "execution_count": null,
   "metadata": {},
   "outputs": [],
   "source": []
  }
 ],
 "metadata": {
  "kernelspec": {
   "display_name": "Python 3",
   "language": "python",
   "name": "python3"
  },
  "language_info": {
   "codemirror_mode": {
    "name": "ipython",
    "version": 3
   },
   "file_extension": ".py",
   "mimetype": "text/x-python",
   "name": "python",
   "nbconvert_exporter": "python",
   "pygments_lexer": "ipython3",
   "version": "3.8.3"
  }
 },
 "nbformat": 4,
 "nbformat_minor": 4
}
